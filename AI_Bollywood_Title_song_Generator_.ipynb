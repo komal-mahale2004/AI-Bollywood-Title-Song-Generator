{
  "nbformat": 4,
  "nbformat_minor": 0,
  "metadata": {
    "colab": {
      "provenance": [],
      "authorship_tag": "ABX9TyPnkDBAuMPhFR7EbHIXwG5d",
      "include_colab_link": true
    },
    "kernelspec": {
      "name": "python3",
      "display_name": "Python 3"
    },
    "language_info": {
      "name": "python"
    }
  },
  "cells": [
    {
      "cell_type": "markdown",
      "metadata": {
        "id": "view-in-github",
        "colab_type": "text"
      },
      "source": [
        "<a href=\"https://colab.research.google.com/github/SNEHABORADE25/AI-Bollywood-Title-Song-Generator/blob/main/AI_Bollywood_Title_song_Generator_.ipynb\" target=\"_parent\"><img src=\"https://colab.research.google.com/assets/colab-badge.svg\" alt=\"Open In Colab\"/></a>"
      ]
    },
    {
      "cell_type": "code",
      "source": [
        "pip install gtts"
      ],
      "metadata": {
        "colab": {
          "base_uri": "https://localhost:8080/"
        },
        "id": "1Z5kxdQ7IpoH",
        "outputId": "a7dd73d6-20ed-4235-ead6-712675772e87"
      },
      "execution_count": null,
      "outputs": [
        {
          "output_type": "stream",
          "name": "stdout",
          "text": [
            "Collecting gtts\n",
            "  Downloading gTTS-2.5.4-py3-none-any.whl.metadata (4.1 kB)\n",
            "Requirement already satisfied: requests<3,>=2.27 in /usr/local/lib/python3.11/dist-packages (from gtts) (2.32.3)\n",
            "Collecting click<8.2,>=7.1 (from gtts)\n",
            "  Downloading click-8.1.8-py3-none-any.whl.metadata (2.3 kB)\n",
            "Requirement already satisfied: charset-normalizer<4,>=2 in /usr/local/lib/python3.11/dist-packages (from requests<3,>=2.27->gtts) (3.4.2)\n",
            "Requirement already satisfied: idna<4,>=2.5 in /usr/local/lib/python3.11/dist-packages (from requests<3,>=2.27->gtts) (3.10)\n",
            "Requirement already satisfied: urllib3<3,>=1.21.1 in /usr/local/lib/python3.11/dist-packages (from requests<3,>=2.27->gtts) (2.5.0)\n",
            "Requirement already satisfied: certifi>=2017.4.17 in /usr/local/lib/python3.11/dist-packages (from requests<3,>=2.27->gtts) (2025.8.3)\n",
            "Downloading gTTS-2.5.4-py3-none-any.whl (29 kB)\n",
            "Downloading click-8.1.8-py3-none-any.whl (98 kB)\n",
            "\u001b[2K   \u001b[90m━━━━━━━━━━━━━━━━━━━━━━━━━━━━━━━━━━━━━━━━\u001b[0m \u001b[32m98.2/98.2 kB\u001b[0m \u001b[31m4.0 MB/s\u001b[0m eta \u001b[36m0:00:00\u001b[0m\n",
            "\u001b[?25hInstalling collected packages: click, gtts\n",
            "  Attempting uninstall: click\n",
            "    Found existing installation: click 8.2.1\n",
            "    Uninstalling click-8.2.1:\n",
            "      Successfully uninstalled click-8.2.1\n",
            "Successfully installed click-8.1.8 gtts-2.5.4\n"
          ]
        }
      ]
    },
    {
      "cell_type": "code",
      "execution_count": null,
      "metadata": {
        "colab": {
          "base_uri": "https://localhost:8080/",
          "height": 646
        },
        "id": "T7NwrVErIZVC",
        "outputId": "74128af5-aa68-476c-c789-3536e16c80e2"
      },
      "outputs": [
        {
          "output_type": "stream",
          "name": "stdout",
          "text": [
            "It looks like you are running Gradio on a hosted Jupyter notebook, which requires `share=True`. Automatically setting `share=True` (you can turn this off by setting `share=False` in `launch()` explicitly).\n",
            "\n",
            "Colab notebook detected. To show errors in colab notebook, set debug=True in launch()\n",
            "* Running on public URL: https://80b17b57ced10eabf7.gradio.live\n",
            "\n",
            "This share link expires in 1 week. For free permanent hosting and GPU upgrades, run `gradio deploy` from the terminal in the working directory to deploy to Hugging Face Spaces (https://huggingface.co/spaces)\n"
          ]
        },
        {
          "output_type": "display_data",
          "data": {
            "text/plain": [
              "<IPython.core.display.HTML object>"
            ],
            "text/html": [
              "<div><iframe src=\"https://80b17b57ced10eabf7.gradio.live\" width=\"100%\" height=\"500\" allow=\"autoplay; camera; microphone; clipboard-read; clipboard-write;\" frameborder=\"0\" allowfullscreen></iframe></div>"
            ]
          },
          "metadata": {}
        },
        {
          "output_type": "execute_result",
          "data": {
            "text/plain": []
          },
          "metadata": {},
          "execution_count": 2
        }
      ],
      "source": [
        "import requests\n",
        "import json\n",
        "from gtts import gTTS\n",
        "import gradio as gr\n",
        "import tempfile\n",
        "\n",
        "OPENROUTER_API_KEY = \"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\"\n",
        "\n",
        "def generate_lyrics(title):\n",
        "    prompt = (\n",
        "        f\"एक बॉलीवुड गीत लिखिए जिसका शीर्षक '{title}' हो। \"\n",
        "        \"यह गीत रोमांटिक और भावनात्मक हो, जिसमें मुखड़ा और अंतरा शामिल हों।\"\n",
        "    )\n",
        "    response = requests.post(\n",
        "        \"https://openrouter.ai/api/v1/chat/completions\",\n",
        "        headers={\n",
        "            \"Authorization\": f\"Bearer {OPENROUTER_API_KEY}\",\n",
        "            \"Content-Type\": \"application/json\",\n",
        "        },\n",
        "        data=json.dumps({\n",
        "            \"model\": \"deepseek/deepseek-r1:free\",\n",
        "            \"messages\": [{\"role\": \"user\", \"content\": prompt}]\n",
        "        })\n",
        "    )\n",
        "    if response.status_code != 200:\n",
        "        return f\"Error: {response.status_code}\", None\n",
        "\n",
        "    lyrics = response.json()[\"choices\"][0][\"message\"][\"content\"]\n",
        "    return lyrics\n",
        "\n",
        "def lyrics_to_audio(lyrics):\n",
        "    tmp_file = tempfile.NamedTemporaryFile(delete=False, suffix=\".mp3\")\n",
        "    gTTS(text=lyrics, lang=\"hi\").save(tmp_file.name)\n",
        "    return tmp_file.name\n",
        "\n",
        "def generate_song_from_title(title):\n",
        "    lyrics = generate_lyrics(title)\n",
        "    if lyrics.startswith(\"Error:\"):\n",
        "        return lyrics, None\n",
        "    audio_path = lyrics_to_audio(lyrics)\n",
        "    return lyrics, audio_path\n",
        "\n",
        "with gr.Blocks() as demo:\n",
        "    gr.Markdown(\"## 🎵 Task Title to Bollywood Song + Audio Generator\")\n",
        "\n",
        "    title_input = gr.Textbox(label=\"Enter Task Title (Song Title)\", placeholder=\"e.g. प्यार की बारिश\", lines=1)\n",
        "    generate_btn = gr.Button(\"Generate Song\")\n",
        "\n",
        "    lyrics_output = gr.Textbox(label=\"Generated Song Lyrics\", lines=12)\n",
        "    audio_output = gr.Audio(label=\"Song Audio\", type=\"filepath\")\n",
        "\n",
        "    generate_btn.click(\n",
        "        fn=generate_song_from_title,\n",
        "        inputs=title_input,\n",
        "        outputs=[lyrics_output, audio_output]\n",
        "    )\n",
        "\n",
        "demo.launch()"
      ]
    },
    {
      "cell_type": "markdown",
      "source": [
        "* **AIM -** To create a web application that generates Bollywood-style Hindi song lyrics from a given title and converts them into audio.\n",
        "\n",
        "\n",
        "* This project is a Bollywood Song & Audio Generator built using Python.\n",
        "\n",
        "* It allows the user to enter any song title, and the application automatically creates romantic, Bollywood-style Hindi lyrics and generates an audio version of the song.\n",
        "\n",
        "* The process begins with the title being sent to an AI model via the OpenRouter API, which returns custom song lyrics including mukhda and antara.  \n",
        "\n",
        "* These lyrics are then passed to Google Text-to-Speech (gTTS) to produce natural-sounding Hindi audio.\n",
        "\n",
        "* The entire workflow is wrapped in a Gradio-based web interface, where users can type the title, view the lyrics, and play the generated audio instantly.\n",
        "\n",
        "* The application also uses temporary file handling to manage audio storage efficiently and ensure smooth playback without manual file management.\n",
        "\n",
        "* # Result:\n",
        "Successfully developed a Gradio-based app that produces AI-generated lyrics using OpenRouter API and plays them as natural-sounding Hindi audio via gTTS."
      ],
      "metadata": {
        "id": "-8SVO46TK8Gb"
      }
    },
    {
      "cell_type": "code",
      "source": [],
      "metadata": {
        "id": "ijlWryW7K7VG"
      },
      "execution_count": null,
      "outputs": []
    }
  ]
}